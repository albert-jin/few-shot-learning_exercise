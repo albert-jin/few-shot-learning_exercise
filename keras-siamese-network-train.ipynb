{
 "cells": [
  {
   "cell_type": "code",
   "execution_count": 1,
   "metadata": {},
   "outputs": [
    {
     "name": "stderr",
     "output_type": "stream",
     "text": [
      "D:\\anaconda\\envs\\nlu_project_2_env\\lib\\site-packages\\tensorflow\\python\\framework\\dtypes.py:526: FutureWarning: Passing (type, 1) or '1type' as a synonym of type is deprecated; in a future version of numpy, it will be understood as (type, (1,)) / '(1,)type'.\n",
      "  _np_qint8 = np.dtype([(\"qint8\", np.int8, 1)])\n",
      "D:\\anaconda\\envs\\nlu_project_2_env\\lib\\site-packages\\tensorflow\\python\\framework\\dtypes.py:527: FutureWarning: Passing (type, 1) or '1type' as a synonym of type is deprecated; in a future version of numpy, it will be understood as (type, (1,)) / '(1,)type'.\n",
      "  _np_quint8 = np.dtype([(\"quint8\", np.uint8, 1)])\n",
      "D:\\anaconda\\envs\\nlu_project_2_env\\lib\\site-packages\\tensorflow\\python\\framework\\dtypes.py:528: FutureWarning: Passing (type, 1) or '1type' as a synonym of type is deprecated; in a future version of numpy, it will be understood as (type, (1,)) / '(1,)type'.\n",
      "  _np_qint16 = np.dtype([(\"qint16\", np.int16, 1)])\n",
      "D:\\anaconda\\envs\\nlu_project_2_env\\lib\\site-packages\\tensorflow\\python\\framework\\dtypes.py:529: FutureWarning: Passing (type, 1) or '1type' as a synonym of type is deprecated; in a future version of numpy, it will be understood as (type, (1,)) / '(1,)type'.\n",
      "  _np_quint16 = np.dtype([(\"quint16\", np.uint16, 1)])\n",
      "D:\\anaconda\\envs\\nlu_project_2_env\\lib\\site-packages\\tensorflow\\python\\framework\\dtypes.py:530: FutureWarning: Passing (type, 1) or '1type' as a synonym of type is deprecated; in a future version of numpy, it will be understood as (type, (1,)) / '(1,)type'.\n",
      "  _np_qint32 = np.dtype([(\"qint32\", np.int32, 1)])\n",
      "D:\\anaconda\\envs\\nlu_project_2_env\\lib\\site-packages\\tensorflow\\python\\framework\\dtypes.py:535: FutureWarning: Passing (type, 1) or '1type' as a synonym of type is deprecated; in a future version of numpy, it will be understood as (type, (1,)) / '(1,)type'.\n",
      "  np_resource = np.dtype([(\"resource\", np.ubyte, 1)])\n",
      "D:\\anaconda\\envs\\nlu_project_2_env\\lib\\site-packages\\h5py\\__init__.py:36: FutureWarning: Conversion of the second argument of issubdtype from `float` to `np.floating` is deprecated. In future, it will be treated as `np.float64 == np.dtype(float).type`.\n",
      "  from ._conv import register_converters as _register_converters\n"
     ]
    },
    {
     "data": {
      "text/plain": [
       "True"
      ]
     },
     "execution_count": 1,
     "metadata": {},
     "output_type": "execute_result"
    }
   ],
   "source": [
    "import tensorflow as tf\n",
    "tf.test.is_gpu_available()"
   ]
  },
  {
   "cell_type": "code",
   "execution_count": 2,
   "metadata": {},
   "outputs": [
    {
     "name": "stderr",
     "output_type": "stream",
     "text": [
      "Using TensorFlow backend.\n"
     ]
    }
   ],
   "source": [
    "from keras.layers import Activation"
   ]
  },
  {
   "cell_type": "code",
   "execution_count": 3,
   "metadata": {},
   "outputs": [],
   "source": [
    "from keras.layers import Input,Conv2D,Lambda,merge,Dense,Flatten,MaxPooling2D,Add,Lambda"
   ]
  },
  {
   "cell_type": "code",
   "execution_count": 4,
   "metadata": {},
   "outputs": [],
   "source": [
    "from keras.regularizers import l2"
   ]
  },
  {
   "cell_type": "code",
   "execution_count": 5,
   "metadata": {},
   "outputs": [],
   "source": [
    "import keras"
   ]
  },
  {
   "cell_type": "code",
   "execution_count": 6,
   "metadata": {},
   "outputs": [],
   "source": [
    "from keras import backend as K\n",
    "from keras.optimizers import SGD,Adam"
   ]
  },
  {
   "cell_type": "code",
   "execution_count": 7,
   "metadata": {},
   "outputs": [],
   "source": [
    "from keras.losses import binary_crossentropy"
   ]
  },
  {
   "cell_type": "code",
   "execution_count": 26,
   "metadata": {},
   "outputs": [],
   "source": [
    "from numpy import random as rdm"
   ]
  },
  {
   "cell_type": "code",
   "execution_count": 27,
   "metadata": {},
   "outputs": [],
   "source": [
    "import numpy as np"
   ]
  },
  {
   "cell_type": "code",
   "execution_count": 5,
   "metadata": {},
   "outputs": [],
   "source": [
    "import os"
   ]
  },
  {
   "cell_type": "code",
   "execution_count": 6,
   "metadata": {},
   "outputs": [],
   "source": [
    "import dill as pickle"
   ]
  },
  {
   "cell_type": "code",
   "execution_count": 7,
   "metadata": {},
   "outputs": [],
   "source": [
    "from matplotlib import pyplot as plt"
   ]
  },
  {
   "cell_type": "code",
   "execution_count": 8,
   "metadata": {},
   "outputs": [],
   "source": [
    "import matplotlib"
   ]
  },
  {
   "cell_type": "code",
   "execution_count": 9,
   "metadata": {},
   "outputs": [],
   "source": [
    "from numpy.random import shuffle"
   ]
  },
  {
   "cell_type": "code",
   "execution_count": 10,
   "metadata": {},
   "outputs": [],
   "source": [
    "image_dir =r'C:\\Users\\24839\\Desktop\\jupyter-code\\omniglot\\python'"
   ]
  },
  {
   "cell_type": "code",
   "execution_count": 11,
   "metadata": {},
   "outputs": [
    {
     "data": {
      "text/plain": [
       "['images_background',\n",
       " 'images_background_small1',\n",
       " 'images_background_small2',\n",
       " 'images_evaluation',\n",
       " 'one-shot-classification']"
      ]
     },
     "execution_count": 11,
     "metadata": {},
     "output_type": "execute_result"
    }
   ],
   "source": [
    "import os\n",
    "root_dir =os.listdir(image_dir)  #image_bg是训练集,30个字母表\n",
    "# image_evaluation 是test集，20个字母表\n",
    "root_dir"
   ]
  },
  {
   "cell_type": "code",
   "execution_count": 12,
   "metadata": {},
   "outputs": [],
   "source": [
    "from keras.preprocessing.image import load_img,img_to_array"
   ]
  },
  {
   "cell_type": "code",
   "execution_count": 13,
   "metadata": {},
   "outputs": [],
   "source": [
    "one_img =load_img(r'C:\\Users\\24839\\Desktop\\jupyter-code\\omniglot\\python\\images_background\\Alphabet_of_the_Magi\\character02\\0710_01.png')"
   ]
  },
  {
   "cell_type": "code",
   "execution_count": 14,
   "metadata": {},
   "outputs": [
    {
     "data": {
      "image/png": "[encoded data removed]",
      "text/plain": [
       "<PIL.Image.Image image mode=RGB size=105x105 at 0x27D563ABB70>"
      ]
     },
     "execution_count": 14,
     "metadata": {},
     "output_type": "execute_result"
    }
   ],
   "source": [
    "one_img"
   ]
  },
  {
   "cell_type": "code",
   "execution_count": 20,
   "metadata": {},
   "outputs": [
    {
     "data": {
      "text/plain": [
       "(105, 105, 3)"
      ]
     },
     "execution_count": 20,
     "metadata": {},
     "output_type": "execute_result"
    }
   ],
   "source": [
    "img_to_array(one_img).shape"
   ]
  },
  {
   "cell_type": "code",
   "execution_count": 21,
   "metadata": {},
   "outputs": [
    {
     "data": {
      "text/plain": [
       "numpy.ndarray"
      ]
     },
     "execution_count": 21,
     "metadata": {},
     "output_type": "execute_result"
    }
   ],
   "source": [
    "type(img_to_array(one_img))"
   ]
  },
  {
   "cell_type": "code",
   "execution_count": 15,
   "metadata": {},
   "outputs": [],
   "source": [
    "s_dir =os.path.join(image_dir,'images_background')\n",
    "image_list =[]\n",
    "for dir_ in os.listdir(s_dir):\n",
    "    su_dir =os.path.join(s_dir,dir_)\n",
    "    for dir_ in os.listdir(su_dir):\n",
    "        sub_dir =os.path.join(su_dir,dir_)\n",
    "        sub_image_list =[]\n",
    "        for image_name in os.listdir(sub_dir):\n",
    "            image_path = os.path.join(sub_dir,image_name)\n",
    "            img_array= img_to_array(load_img(image_path)) \n",
    "            sub_image_list.append(img_array)\n",
    "        image_list.append(sub_image_list)"
   ]
  },
  {
   "cell_type": "code",
   "execution_count": 22,
   "metadata": {},
   "outputs": [],
   "source": [
    "train_result =np.array(image_list)"
   ]
  },
  {
   "cell_type": "code",
   "execution_count": 24,
   "metadata": {},
   "outputs": [
    {
     "data": {
      "text/plain": [
       "(964, 20, 105, 105, 3)"
      ]
     },
     "execution_count": 24,
     "metadata": {},
     "output_type": "execute_result"
    }
   ],
   "source": [
    "train_result.shape"
   ]
  },
  {
   "cell_type": "code",
   "execution_count": 16,
   "metadata": {},
   "outputs": [],
   "source": [
    "s_dir =os.path.join(image_dir,'images_evaluation')\n",
    "image_list =[]\n",
    "for dir_ in os.listdir(s_dir):\n",
    "    su_dir =os.path.join(s_dir,dir_)\n",
    "    for dir_ in os.listdir(su_dir):\n",
    "        sub_dir =os.path.join(su_dir,dir_)\n",
    "        sub_image_list =[]\n",
    "        for image_name in os.listdir(sub_dir):\n",
    "            image_path = os.path.join(sub_dir,image_name)\n",
    "            img_array= img_to_array(load_img(image_path)) \n",
    "            sub_image_list.append(img_array)\n",
    "        image_list.append(sub_image_list)"
   ]
  },
  {
   "cell_type": "code",
   "execution_count": 21,
   "metadata": {},
   "outputs": [],
   "source": [
    "val_result =np.array(image_list)"
   ]
  },
  {
   "cell_type": "code",
   "execution_count": 27,
   "metadata": {
    "scrolled": true
   },
   "outputs": [
    {
     "data": {
      "text/plain": [
       "(659, 20, 105, 105, 3)"
      ]
     },
     "execution_count": 27,
     "metadata": {},
     "output_type": "execute_result"
    }
   ],
   "source": [
    "val_result.shape"
   ]
  },
  {
   "cell_type": "markdown",
   "metadata": {},
   "source": [
    "# 以下是建立siamese模型并训练的代码模块"
   ]
  },
  {
   "cell_type": "code",
   "execution_count": 28,
   "metadata": {},
   "outputs": [],
   "source": [
    "def W_init(shape,name =None):\n",
    "    values =rdm.normal(loc =0,scale =1e-2,size =shape)\n",
    "    return K.variable(values,name =name)"
   ]
  },
  {
   "cell_type": "code",
   "execution_count": 29,
   "metadata": {},
   "outputs": [],
   "source": [
    "def b_init(shape,name =None):\n",
    "    values =rdm.normal(loc =0.5,scale =1e-2,size =shape)\n",
    "    return K.variable(values,name =name)"
   ]
  },
  {
   "cell_type": "code",
   "execution_count": 30,
   "metadata": {},
   "outputs": [],
   "source": [
    "input_shape =(105,105,3)\n",
    "left_input =Input(input_shape)\n",
    "right_input =Input(input_shape)"
   ]
  },
  {
   "cell_type": "code",
   "execution_count": 31,
   "metadata": {},
   "outputs": [],
   "source": [
    "from keras.models import Model,Sequential\n",
    "siamese_convnet =Sequential()"
   ]
  },
  {
   "cell_type": "code",
   "execution_count": 32,
   "metadata": {},
   "outputs": [],
   "source": [
    "siamese_convnet.add(Lambda(lambda x:(K.mean(x,axis =3,keepdims =True)/255),input_shape =input_shape))"
   ]
  },
  {
   "cell_type": "code",
   "execution_count": 33,
   "metadata": {
    "scrolled": true
   },
   "outputs": [
    {
     "name": "stdout",
     "output_type": "stream",
     "text": [
      "WARNING:tensorflow:From D:\\anaconda\\envs\\nlu_project_2_env\\lib\\site-packages\\tensorflow\\python\\ops\\resource_variable_ops.py:435: colocate_with (from tensorflow.python.framework.ops) is deprecated and will be removed in a future version.\n",
      "Instructions for updating:\n",
      "Colocations handled automatically by placer.\n"
     ]
    }
   ],
   "source": [
    "siamese_convnet.add(Conv2D(64,(10,10),activation ='relu',kernel_initializer =keras.initializers.RandomNormal(mean=0.0, stddev=1e-2, seed=None),bias_initializer =keras.initializers.RandomNormal(mean=0.5, stddev=1e-2, seed=None),kernel_regularizer=l2(2e-4)))"
   ]
  },
  {
   "cell_type": "code",
   "execution_count": 34,
   "metadata": {},
   "outputs": [],
   "source": [
    "siamese_convnet.add(MaxPooling2D())"
   ]
  },
  {
   "cell_type": "code",
   "execution_count": 35,
   "metadata": {},
   "outputs": [],
   "source": [
    "siamese_convnet.add(Conv2D(128,(7,7),activation ='relu',kernel_regularizer =l2(2e-4),kernel_initializer=keras.initializers.RandomNormal(mean=0.0, stddev=1e-2, seed=None),bias_initializer =keras.initializers.RandomNormal(mean=0.5, stddev=1e-2, seed=None)))"
   ]
  },
  {
   "cell_type": "code",
   "execution_count": 36,
   "metadata": {},
   "outputs": [],
   "source": [
    "siamese_convnet.add(MaxPooling2D())"
   ]
  },
  {
   "cell_type": "code",
   "execution_count": 37,
   "metadata": {},
   "outputs": [],
   "source": [
    "siamese_convnet.add(Conv2D(256,(4,4),activation ='relu',kernel_initializer =keras.initializers.RandomNormal(mean=0.0, stddev=1e-2, seed=None),bias_initializer =keras.initializers.RandomNormal(mean=0.5, stddev=1e-2, seed=None),kernel_regularizer =l2(1e-3)))"
   ]
  },
  {
   "cell_type": "code",
   "execution_count": 38,
   "metadata": {},
   "outputs": [],
   "source": [
    "siamese_convnet.add(Flatten())"
   ]
  },
  {
   "cell_type": "code",
   "execution_count": 39,
   "metadata": {},
   "outputs": [],
   "source": [
    "siamese_convnet.add(Dense(1024,activation ='sigmoid',kernel_initializer =keras.initializers.RandomNormal(mean=0.0, stddev=1e-2, seed=None),bias_initializer =keras.initializers.RandomNormal(mean=0.5, stddev=1e-2, seed=None),kernel_regularizer =l2(1e-3)))"
   ]
  },
  {
   "cell_type": "code",
   "execution_count": 40,
   "metadata": {},
   "outputs": [],
   "source": [
    "encoded_l =siamese_convnet(left_input)\n",
    "encoded_r =siamese_convnet(right_input)"
   ]
  },
  {
   "cell_type": "code",
   "execution_count": 41,
   "metadata": {},
   "outputs": [],
   "source": [
    "#L1_distance =lambda x:K.abs(x[0]-x[1])\n",
    "Abs =Lambda(lambda x:K.abs(x[0]-x[1]))"
   ]
  },
  {
   "cell_type": "code",
   "execution_count": 42,
   "metadata": {},
   "outputs": [],
   "source": [
    "# both =merge([encoded_l,encoded_r],mode =L1_distance,output_shape =lambda x:x[0])\n",
    "both  =Abs([encoded_l,encoded_r])\n",
    "#或者 both =Add()([encode_1,Lambda(lambda x: -x)(encode_r)])"
   ]
  },
  {
   "cell_type": "code",
   "execution_count": 43,
   "metadata": {},
   "outputs": [],
   "source": [
    "prediction =Dense(1,activation='sigmoid',bias_initializer =keras.initializers.RandomNormal(mean=0.5, stddev=1e-2))(both)"
   ]
  },
  {
   "cell_type": "code",
   "execution_count": 44,
   "metadata": {},
   "outputs": [
    {
     "name": "stderr",
     "output_type": "stream",
     "text": [
      "D:\\anaconda\\envs\\nlu_project_2_env\\lib\\site-packages\\ipykernel_launcher.py:1: UserWarning: Update your `Model` call to the Keras 2 API: `Model(inputs=[<tf.Tenso..., outputs=Tensor(\"de...)`\n",
      "  \"\"\"Entry point for launching an IPython kernel.\n"
     ]
    }
   ],
   "source": [
    "siamese_convnet_all =Model(input=[left_input,right_input],output=prediction)"
   ]
  },
  {
   "cell_type": "code",
   "execution_count": 45,
   "metadata": {},
   "outputs": [],
   "source": [
    "siamese_convnet_all.compile(loss= 'binary_crossentropy',optimizer =Adam(0.00006))"
   ]
  },
  {
   "cell_type": "code",
   "execution_count": 46,
   "metadata": {},
   "outputs": [
    {
     "data": {
      "text/plain": [
       "85869249"
      ]
     },
     "execution_count": 46,
     "metadata": {},
     "output_type": "execute_result"
    }
   ],
   "source": [
    "siamese_convnet_all.count_params()"
   ]
  },
  {
   "cell_type": "code",
   "execution_count": 23,
   "metadata": {},
   "outputs": [],
   "source": [
    "class Data_Loader:\n",
    "    def __init__(self,Xtrain,Xval):\n",
    "        self.Xtrain =Xtrain\n",
    "        self.Xval =Xval\n",
    "        self.n_classes,self.n_examples,self.w,self.h,self.channel =Xtrain.shape\n",
    "        self.n_classes_val,self.n_examples_val,_,_,_ =Xval.shape\n",
    "    def get_batch(self,n):\n",
    "        categories =rdm.choice(self.n_classes,size=(n,),replace =False)\n",
    "        pairs =[np.zeros((n,self.w,self.h,3)) for i in range(2)]\n",
    "        targets =np.zeros((n,))\n",
    "        targets[n//2:] =1\n",
    "        for i in range(n):\n",
    "            category_1 =categories[i]\n",
    "            idx_1 =rdm.randint(0,self.n_examples)\n",
    "            pairs[0][i,:,:,:] =self.Xtrain[category_1,idx_1].reshape(self.w,self.h,3)\n",
    "            idx_2 =rdm.randint(0,self.n_examples)\n",
    "            category_2 =category_1 if i>=n//2 else (category_1 + rdm.randint(1,self.n_classes))%self.n_classes\n",
    "            pairs[1][i,:,:,:] =self.Xtrain[category_2,idx_2].reshape(self.w,self.h,3)\n",
    "        return pairs,targets\n",
    "    def make_one_shot_task_visiable(self,M,model):\n",
    "        categories =rdm.choice(self.n_classes_val,size=(M,),replace =False) # 选择M的类\n",
    "        indices =rdm.randint(0,self.n_examples_val,size=(M,)) # 选择M的example的index\n",
    "        mps =rdm.randint(0,len(categories)) # 挑选一个类做query，找到这个类在M集合的下标\n",
    "        true_category =categories[mps] # 找到这个类的class下标\n",
    "        ex1,ex2 =rdm .choice(self.n_examples,replace =False,size =(2,))  # 区分query和support中对应类图片的下标\n",
    "        test_image =np.asarray([self.Xval[true_category,ex1,:,:]]*M).reshape(M,self.w,self.h,3) #复制query为M份\n",
    "        support_set =self.Xval[categories,indices,:,:,:] #形成support集合\n",
    "        support_set[mps,:,:,:] =self.Xval[true_category,ex2] # 修改support集合中与query同类的图片\n",
    "        support_set =support_set.reshape(M,self.w,self.h,3) #reshape\n",
    "        print('显示support_set的图片：')\n",
    "        for idx,image_matrix in enumerate(support_set) :\n",
    "            image =Image.fromarray(image_matrix.astype(np.uint8))\n",
    "            # image.show()\n",
    "            #image.thumbnail((image.size[0]//2, image.size[1]//2)) # 缩放到50%\n",
    "            image = image.resize((image.size[0]//2, image.size[1]//2))\n",
    "            subplt =plt.subplot(len(support_set),1,idx+1)\n",
    "            subplt.imshow(image)\n",
    "            plt.show()\n",
    "        probs =model.predict([support_set,test_image])\n",
    "        nearest_image_index =np.argmax(probs)\n",
    "        print('显示query图片:')\n",
    "        image =Image.fromarray(test_image[0].astype(np.uint8))\n",
    "        # image.show()\n",
    "        # image.thumbnail((image.size[0]//2, image.size[1]//2)) # 缩放到50%\n",
    "        image =image.resize((image.size[0]//2, image.size[1]//2))\n",
    "        plt.imshow(image)\n",
    "        plt.show()\n",
    "        print('在support-set中预测最相似图片下标为{},显示support-set中的对应图片:'.format(nearest_image_index))\n",
    "        image =Image.fromarray(support_set[nearest_image_index].astype(np.uint8))\n",
    "        # image.show() \n",
    "        #image.thumbnail((image.size[0]//2, image.size[1]//2)) # 缩放到50%\n",
    "        image =image.resize((image.size[0]//2, image.size[1]//2))\n",
    "        plt.imshow(image)\n",
    "        plt.show()\n",
    "    def make_one_shot_task(self,N):\n",
    "        categories =rdm.choice(self.n_classes_val,size =(N,),replace =False)\n",
    "        indices =rdm .randint(0,self.n_examples_val,size =(N,))\n",
    "        true_category =categories[1]\n",
    "        ex1,ex2 =rdm .choice(self.n_examples,replace =False,size =(2,))\n",
    "        test_image =np.asarray([self.Xval[true_category,ex1,:,:]]*N).reshape(N,self.w,self.h,3)\n",
    "        support_set =self.Xval[categories,indices,:,:,:]\n",
    "        support_set[1,:,:,:] =self.Xval[true_category,ex2]\n",
    "        support_set =support_set.reshape(N,self.w,self.h,3)\n",
    "        pairs = [test_image,support_set]\n",
    "        targets =np.zeros((N,))\n",
    "        targets[1] =1\n",
    "        return pairs ,targets\n",
    "    def test_one_shot(self,model,N,k,verbose=True):\n",
    "        n_correct =0\n",
    "        if verbose:\n",
    "            print('测试',N,'ways one shot 任务,任务有',k,'个')\n",
    "        for i in range(k):\n",
    "            input_, targets =self.make_one_shot_task(N)\n",
    "            probs =model.predict(input_)\n",
    "            if np.argmax(probs) == 1:\n",
    "                n_correct +=1\n",
    "        percent_correct =(100.0*n_correct/k)\n",
    "        if verbose:\n",
    "            print('总共测试了',k,'个support&query任务,命中率:',percent_correct,'%')\n",
    "        return percent_correct"
   ]
  },
  {
   "cell_type": "code",
   "execution_count": 24,
   "metadata": {},
   "outputs": [],
   "source": [
    "loader =Data_Loader(train_result,val_result)"
   ]
  },
  {
   "cell_type": "code",
   "execution_count": 49,
   "metadata": {},
   "outputs": [],
   "source": [
    "per_iter_evaluate =1000\n",
    "per_iter_show_loss =300\n",
    "batch_size =32\n",
    "N_way =20\n",
    "n_val =500\n",
    "# siamese_net_all.load_weights('路径')\n",
    "best =70.0"
   ]
  },
  {
   "cell_type": "code",
   "execution_count": 50,
   "metadata": {
    "collapsed": true
   },
   "outputs": [
    {
     "name": "stdout",
     "output_type": "stream",
     "text": [
      "WARNING:tensorflow:From D:\\anaconda\\envs\\nlu_project_2_env\\lib\\site-packages\\tensorflow\\python\\ops\\math_ops.py:3066: to_int32 (from tensorflow.python.ops.math_ops) is deprecated and will be removed in a future version.\n",
      "Instructions for updating:\n",
      "Use tf.cast instead.\n",
      "iteration 0, training loss: 9.28,\n",
      "测试 20 ways one shot 任务,任务有 500 个\n",
      "总共测试了 500 个support&query任务,命中率: 24.0 %\n",
      "处于iteration 0,进行一次evaluation 目前表现val_acc: 24.0 % 对比上次记录的best: 70.0 %\n",
      "iteration 300, training loss: 2.35,\n",
      "iteration 600, training loss: 1.21,\n",
      "iteration 900, training loss: 0.91,\n",
      "测试 20 ways one shot 任务,任务有 500 个\n",
      "总共测试了 500 个support&query任务,命中率: 33.6 %\n",
      "处于iteration 1000,进行一次evaluation 目前表现val_acc: 33.6 % 对比上次记录的best: 70.0 %\n",
      "iteration 1200, training loss: 0.74,\n",
      "iteration 1500, training loss: 0.68,\n",
      "iteration 1800, training loss: 0.54,\n",
      "测试 20 ways one shot 任务,任务有 500 个\n",
      "总共测试了 500 个support&query任务,命中率: 40.0 %\n",
      "处于iteration 2000,进行一次evaluation 目前表现val_acc: 40.0 % 对比上次记录的best: 70.0 %\n",
      "iteration 2100, training loss: 0.55,\n",
      "iteration 2400, training loss: 0.56,\n",
      "iteration 2700, training loss: 0.44,\n",
      "iteration 3000, training loss: 0.37,\n",
      "测试 20 ways one shot 任务,任务有 500 个\n",
      "总共测试了 500 个support&query任务,命中率: 46.2 %\n",
      "处于iteration 3000,进行一次evaluation 目前表现val_acc: 46.2 % 对比上次记录的best: 70.0 %\n",
      "iteration 3300, training loss: 0.42,\n",
      "iteration 3600, training loss: 0.37,\n",
      "iteration 3900, training loss: 0.30,\n",
      "测试 20 ways one shot 任务,任务有 500 个\n",
      "总共测试了 500 个support&query任务,命中率: 49.2 %\n",
      "处于iteration 4000,进行一次evaluation 目前表现val_acc: 49.2 % 对比上次记录的best: 70.0 %\n",
      "iteration 4200, training loss: 0.28,\n",
      "iteration 4500, training loss: 0.24,\n",
      "iteration 4800, training loss: 0.30,\n",
      "测试 20 ways one shot 任务,任务有 500 个\n",
      "总共测试了 500 个support&query任务,命中率: 53.2 %\n",
      "处于iteration 5000,进行一次evaluation 目前表现val_acc: 53.2 % 对比上次记录的best: 70.0 %\n",
      "iteration 5100, training loss: 0.35,\n",
      "iteration 5400, training loss: 0.46,\n",
      "iteration 5700, training loss: 0.36,\n",
      "iteration 6000, training loss: 0.26,\n",
      "测试 20 ways one shot 任务,任务有 500 个\n",
      "总共测试了 500 个support&query任务,命中率: 56.8 %\n",
      "处于iteration 6000,进行一次evaluation 目前表现val_acc: 56.8 % 对比上次记录的best: 70.0 %\n",
      "iteration 6300, training loss: 0.41,\n",
      "iteration 6600, training loss: 0.41,\n",
      "iteration 6900, training loss: 0.37,\n",
      "测试 20 ways one shot 任务,任务有 500 个\n",
      "总共测试了 500 个support&query任务,命中率: 61.0 %\n",
      "处于iteration 7000,进行一次evaluation 目前表现val_acc: 61.0 % 对比上次记录的best: 70.0 %\n",
      "iteration 7200, training loss: 0.38,\n",
      "iteration 7500, training loss: 0.32,\n",
      "iteration 7800, training loss: 0.28,\n",
      "测试 20 ways one shot 任务,任务有 500 个\n",
      "总共测试了 500 个support&query任务,命中率: 60.0 %\n",
      "处于iteration 8000,进行一次evaluation 目前表现val_acc: 60.0 % 对比上次记录的best: 70.0 %\n",
      "iteration 8100, training loss: 0.28,\n",
      "iteration 8400, training loss: 0.35,\n",
      "iteration 8700, training loss: 0.30,\n",
      "iteration 9000, training loss: 0.31,\n",
      "测试 20 ways one shot 任务,任务有 500 个\n",
      "总共测试了 500 个support&query任务,命中率: 62.8 %\n",
      "处于iteration 9000,进行一次evaluation 目前表现val_acc: 62.8 % 对比上次记录的best: 70.0 %\n",
      "iteration 9300, training loss: 0.28,\n",
      "iteration 9600, training loss: 0.38,\n",
      "iteration 9900, training loss: 0.19,\n",
      "测试 20 ways one shot 任务,任务有 500 个\n",
      "总共测试了 500 个support&query任务,命中率: 58.4 %\n",
      "处于iteration 10000,进行一次evaluation 目前表现val_acc: 58.4 % 对比上次记录的best: 70.0 %\n",
      "iteration 10200, training loss: 0.31,\n",
      "iteration 10500, training loss: 0.37,\n",
      "iteration 10800, training loss: 0.27,\n",
      "测试 20 ways one shot 任务,任务有 500 个\n",
      "总共测试了 500 个support&query任务,命中率: 64.2 %\n",
      "处于iteration 11000,进行一次evaluation 目前表现val_acc: 64.2 % 对比上次记录的best: 70.0 %\n",
      "iteration 11100, training loss: 0.38,\n",
      "iteration 11400, training loss: 0.46,\n",
      "iteration 11700, training loss: 0.17,\n",
      "iteration 12000, training loss: 0.27,\n",
      "测试 20 ways one shot 任务,任务有 500 个\n",
      "总共测试了 500 个support&query任务,命中率: 65.0 %\n",
      "处于iteration 12000,进行一次evaluation 目前表现val_acc: 65.0 % 对比上次记录的best: 70.0 %\n",
      "iteration 12300, training loss: 0.33,\n",
      "iteration 12600, training loss: 0.29,\n",
      "iteration 12900, training loss: 0.27,\n",
      "测试 20 ways one shot 任务,任务有 500 个\n",
      "总共测试了 500 个support&query任务,命中率: 68.4 %\n",
      "处于iteration 13000,进行一次evaluation 目前表现val_acc: 68.4 % 对比上次记录的best: 70.0 %\n",
      "iteration 13200, training loss: 0.23,\n",
      "iteration 13500, training loss: 0.23,\n",
      "iteration 13800, training loss: 0.23,\n",
      "测试 20 ways one shot 任务,任务有 500 个\n",
      "总共测试了 500 个support&query任务,命中率: 66.0 %\n",
      "处于iteration 14000,进行一次evaluation 目前表现val_acc: 66.0 % 对比上次记录的best: 70.0 %\n",
      "iteration 14100, training loss: 0.22,\n",
      "iteration 14400, training loss: 0.31,\n",
      "iteration 14700, training loss: 0.19,\n",
      "iteration 15000, training loss: 0.26,\n",
      "测试 20 ways one shot 任务,任务有 500 个\n",
      "总共测试了 500 个support&query任务,命中率: 66.8 %\n",
      "处于iteration 15000,进行一次evaluation 目前表现val_acc: 66.8 % 对比上次记录的best: 70.0 %\n",
      "iteration 15300, training loss: 0.37,\n",
      "iteration 15600, training loss: 0.16,\n",
      "iteration 15900, training loss: 0.35,\n",
      "测试 20 ways one shot 任务,任务有 500 个\n",
      "总共测试了 500 个support&query任务,命中率: 64.2 %\n",
      "处于iteration 16000,进行一次evaluation 目前表现val_acc: 64.2 % 对比上次记录的best: 70.0 %\n",
      "iteration 16200, training loss: 0.29,\n",
      "iteration 16500, training loss: 0.19,\n",
      "iteration 16800, training loss: 0.29,\n",
      "测试 20 ways one shot 任务,任务有 500 个\n",
      "总共测试了 500 个support&query任务,命中率: 71.0 %\n",
      "处于iteration 17000,进行一次evaluation 目前表现val_acc: 71.0 % 对比上次记录的best: 70.0 %\n",
      "iteration 17100, training loss: 0.30,\n",
      "iteration 17400, training loss: 0.24,\n"
     ]
    },
    {
     "ename": "KeyboardInterrupt",
     "evalue": "",
     "output_type": "error",
     "traceback": [
      "\u001b[1;31m---------------------------------------------------------------------------\u001b[0m",
      "\u001b[1;31mKeyboardInterrupt\u001b[0m                         Traceback (most recent call last)",
      "\u001b[1;32m<ipython-input-50-d53ac0220a2d>\u001b[0m in \u001b[0;36m<module>\u001b[1;34m\u001b[0m\n\u001b[0;32m      1\u001b[0m \u001b[1;32mfor\u001b[0m \u001b[0mi\u001b[0m \u001b[1;32min\u001b[0m \u001b[0mrange\u001b[0m\u001b[1;33m(\u001b[0m\u001b[1;36m500000\u001b[0m\u001b[1;33m)\u001b[0m\u001b[1;33m:\u001b[0m\u001b[1;33m\u001b[0m\u001b[0m\n\u001b[0;32m      2\u001b[0m     \u001b[1;33m(\u001b[0m\u001b[0minputs\u001b[0m\u001b[1;33m,\u001b[0m\u001b[0mtargets\u001b[0m\u001b[1;33m)\u001b[0m \u001b[1;33m=\u001b[0m\u001b[0mloader\u001b[0m\u001b[1;33m.\u001b[0m\u001b[0mget_batch\u001b[0m\u001b[1;33m(\u001b[0m\u001b[0mbatch_size\u001b[0m\u001b[1;33m)\u001b[0m\u001b[1;33m\u001b[0m\u001b[0m\n\u001b[1;32m----> 3\u001b[1;33m     \u001b[0mloss\u001b[0m \u001b[1;33m=\u001b[0m\u001b[0msiamese_convnet_all\u001b[0m\u001b[1;33m.\u001b[0m\u001b[0mtrain_on_batch\u001b[0m\u001b[1;33m(\u001b[0m\u001b[0minputs\u001b[0m\u001b[1;33m,\u001b[0m\u001b[0mtargets\u001b[0m\u001b[1;33m)\u001b[0m\u001b[1;33m\u001b[0m\u001b[0m\n\u001b[0m\u001b[0;32m      4\u001b[0m     \u001b[1;32mif\u001b[0m \u001b[0mi\u001b[0m\u001b[1;33m%\u001b[0m \u001b[0mper_iter_show_loss\u001b[0m \u001b[1;33m==\u001b[0m\u001b[1;36m0\u001b[0m\u001b[1;33m:\u001b[0m\u001b[1;33m\u001b[0m\u001b[0m\n\u001b[0;32m      5\u001b[0m         \u001b[0mprint\u001b[0m\u001b[1;33m(\u001b[0m\u001b[1;34m\"iteration {}, training loss: {:.2f},\"\u001b[0m\u001b[1;33m.\u001b[0m\u001b[0mformat\u001b[0m\u001b[1;33m(\u001b[0m\u001b[0mi\u001b[0m\u001b[1;33m,\u001b[0m\u001b[0mloss\u001b[0m\u001b[1;33m)\u001b[0m\u001b[1;33m)\u001b[0m\u001b[1;33m\u001b[0m\u001b[0m\n",
      "\u001b[1;32mD:\\anaconda\\envs\\nlu_project_2_env\\lib\\site-packages\\keras\\engine\\training.py\u001b[0m in \u001b[0;36mtrain_on_batch\u001b[1;34m(self, x, y, sample_weight, class_weight, reset_metrics)\u001b[0m\n\u001b[0;32m   1512\u001b[0m             \u001b[0mins\u001b[0m \u001b[1;33m=\u001b[0m \u001b[0mx\u001b[0m \u001b[1;33m+\u001b[0m \u001b[0my\u001b[0m \u001b[1;33m+\u001b[0m \u001b[0msample_weights\u001b[0m\u001b[1;33m\u001b[0m\u001b[0m\n\u001b[0;32m   1513\u001b[0m         \u001b[0mself\u001b[0m\u001b[1;33m.\u001b[0m\u001b[0m_make_train_function\u001b[0m\u001b[1;33m(\u001b[0m\u001b[1;33m)\u001b[0m\u001b[1;33m\u001b[0m\u001b[0m\n\u001b[1;32m-> 1514\u001b[1;33m         \u001b[0moutputs\u001b[0m \u001b[1;33m=\u001b[0m \u001b[0mself\u001b[0m\u001b[1;33m.\u001b[0m\u001b[0mtrain_function\u001b[0m\u001b[1;33m(\u001b[0m\u001b[0mins\u001b[0m\u001b[1;33m)\u001b[0m\u001b[1;33m\u001b[0m\u001b[0m\n\u001b[0m\u001b[0;32m   1515\u001b[0m \u001b[1;33m\u001b[0m\u001b[0m\n\u001b[0;32m   1516\u001b[0m         \u001b[1;32mif\u001b[0m \u001b[0mreset_metrics\u001b[0m\u001b[1;33m:\u001b[0m\u001b[1;33m\u001b[0m\u001b[0m\n",
      "\u001b[1;32mD:\\anaconda\\envs\\nlu_project_2_env\\lib\\site-packages\\tensorflow\\python\\keras\\backend.py\u001b[0m in \u001b[0;36m__call__\u001b[1;34m(self, inputs)\u001b[0m\n\u001b[0;32m   3074\u001b[0m \u001b[1;33m\u001b[0m\u001b[0m\n\u001b[0;32m   3075\u001b[0m     fetched = self._callable_fn(*array_vals,\n\u001b[1;32m-> 3076\u001b[1;33m                                 run_metadata=self.run_metadata)\n\u001b[0m\u001b[0;32m   3077\u001b[0m     \u001b[0mself\u001b[0m\u001b[1;33m.\u001b[0m\u001b[0m_call_fetch_callbacks\u001b[0m\u001b[1;33m(\u001b[0m\u001b[0mfetched\u001b[0m\u001b[1;33m[\u001b[0m\u001b[1;33m-\u001b[0m\u001b[0mlen\u001b[0m\u001b[1;33m(\u001b[0m\u001b[0mself\u001b[0m\u001b[1;33m.\u001b[0m\u001b[0m_fetches\u001b[0m\u001b[1;33m)\u001b[0m\u001b[1;33m:\u001b[0m\u001b[1;33m]\u001b[0m\u001b[1;33m)\u001b[0m\u001b[1;33m\u001b[0m\u001b[0m\n\u001b[0;32m   3078\u001b[0m     return nest.pack_sequence_as(self._outputs_structure,\n",
      "\u001b[1;32mD:\\anaconda\\envs\\nlu_project_2_env\\lib\\site-packages\\tensorflow\\python\\client\\session.py\u001b[0m in \u001b[0;36m__call__\u001b[1;34m(self, *args, **kwargs)\u001b[0m\n\u001b[0;32m   1437\u001b[0m           ret = tf_session.TF_SessionRunCallable(\n\u001b[0;32m   1438\u001b[0m               \u001b[0mself\u001b[0m\u001b[1;33m.\u001b[0m\u001b[0m_session\u001b[0m\u001b[1;33m.\u001b[0m\u001b[0m_session\u001b[0m\u001b[1;33m,\u001b[0m \u001b[0mself\u001b[0m\u001b[1;33m.\u001b[0m\u001b[0m_handle\u001b[0m\u001b[1;33m,\u001b[0m \u001b[0margs\u001b[0m\u001b[1;33m,\u001b[0m \u001b[0mstatus\u001b[0m\u001b[1;33m,\u001b[0m\u001b[1;33m\u001b[0m\u001b[0m\n\u001b[1;32m-> 1439\u001b[1;33m               run_metadata_ptr)\n\u001b[0m\u001b[0;32m   1440\u001b[0m         \u001b[1;32mif\u001b[0m \u001b[0mrun_metadata\u001b[0m\u001b[1;33m:\u001b[0m\u001b[1;33m\u001b[0m\u001b[0m\n\u001b[0;32m   1441\u001b[0m           \u001b[0mproto_data\u001b[0m \u001b[1;33m=\u001b[0m \u001b[0mtf_session\u001b[0m\u001b[1;33m.\u001b[0m\u001b[0mTF_GetBuffer\u001b[0m\u001b[1;33m(\u001b[0m\u001b[0mrun_metadata_ptr\u001b[0m\u001b[1;33m)\u001b[0m\u001b[1;33m\u001b[0m\u001b[0m\n",
      "\u001b[1;31mKeyboardInterrupt\u001b[0m: "
     ]
    }
   ],
   "source": [
    "for i in range(500000):\n",
    "    (inputs,targets) =loader.get_batch(batch_size)\n",
    "    loss =siamese_convnet_all.train_on_batch(inputs,targets)\n",
    "    if i% per_iter_show_loss ==0:\n",
    "        print(\"iteration {}, training loss: {:.2f},\".format(i,loss))\n",
    "    if i % per_iter_evaluate ==0:\n",
    "        val_acc =loader.test_one_shot(siamese_convnet_all,N_way,n_val,verbose =True)\n",
    "        if val_acc >=best+10:\n",
    "            print('处于iteration {},进行一次evaluation'.format(i),'目前表现val_acc:',val_acc,'% 大于best:',best,'% 保存一下模型..')\n",
    "            siamese_convnet_all.save('keras-siamese-network_accuracy{}%'.format(int(val_acc)))\n",
    "            best =val_acc\n",
    "        else:\n",
    "            print('处于iteration {},进行一次evaluation'.format(i),'目前表现val_acc:',val_acc,'% 对比上次记录的best:',best,'%')\n",
    "        if val_acc>99:\n",
    "            print('模型准确率大于99%,保存模型并提前结束')\n",
    "            siamese_convnet_all.save('keras-siamese-network_accuracy{}%'.format(int(val_acc)))\n",
    "            break"
   ]
  },
  {
   "cell_type": "code",
   "execution_count": 2,
   "metadata": {},
   "outputs": [],
   "source": [
    "val_acc =71.0"
   ]
  },
  {
   "cell_type": "code",
   "execution_count": 58,
   "metadata": {},
   "outputs": [],
   "source": [
    "siamese_convnet_all.load_weights(\"keras-siamese-network_accuracy{}%\".format(int(val_acc)))"
   ]
  },
  {
   "cell_type": "code",
   "execution_count": 52,
   "metadata": {},
   "outputs": [],
   "source": [
    "siamese_convnet_all.save('keras-siamese-network_accuracy{}%'.format(int(val_acc)))"
   ]
  },
  {
   "cell_type": "code",
   "execution_count": 50,
   "metadata": {},
   "outputs": [],
   "source": [
    "from PIL import Image"
   ]
  },
  {
   "cell_type": "code",
   "execution_count": 62,
   "metadata": {},
   "outputs": [
    {
     "name": "stdout",
     "output_type": "stream",
     "text": [
      "显示support_set的图片：\n"
     ]
    },
    {
     "data": {
      "image/png": "[encoded data removed]",
      "text/plain": [
       "<Figure size 432x288 with 1 Axes>"
      ]
     },
     "metadata": {
      "needs_background": "light"
     },
     "output_type": "display_data"
    },
    {
     "data": {
      "image/png": "[encoded data removed]",
      "text/plain": [
       "<Figure size 432x288 with 1 Axes>"
      ]
     },
     "metadata": {
      "needs_background": "light"
     },
     "output_type": "display_data"
    },
    {
     "data": {
      "image/png": "[encoded data removed]",
      "text/plain": [
       "<Figure size 432x288 with 1 Axes>"
      ]
     },
     "metadata": {
      "needs_background": "light"
     },
     "output_type": "display_data"
    },
    {
     "data": {
      "image/png": "[encoded data removed]",
      "text/plain": [
       "<Figure size 432x288 with 1 Axes>"
      ]
     },
     "metadata": {
      "needs_background": "light"
     },
     "output_type": "display_data"
    },
    {
     "data": {
      "image/png": "[encoded data removed]",
      "text/plain": [
       "<Figure size 432x288 with 1 Axes>"
      ]
     },
     "metadata": {
      "needs_background": "light"
     },
     "output_type": "display_data"
    },
    {
     "name": "stdout",
     "output_type": "stream",
     "text": [
      "显示query图片:\n"
     ]
    },
    {
     "data": {
      "image/png": "[encoded data removed]",
      "text/plain": [
       "<Figure size 432x288 with 1 Axes>"
      ]
     },
     "metadata": {
      "needs_background": "light"
     },
     "output_type": "display_data"
    },
    {
     "name": "stdout",
     "output_type": "stream",
     "text": [
      "在support-set中预测最相似图片下标为1,显示support-set中的对应图片:\n"
     ]
    },
    {
     "data": {
      "image/png": "[encoded data removed]",
      "text/plain": [
       "<Figure size 432x288 with 1 Axes>"
      ]
     },
     "metadata": {
      "needs_background": "light"
     },
     "output_type": "display_data"
    }
   ],
   "source": [
    "loader.make_one_shot_task_visiable(5,siamese_convnet_all)"
   ]
  },
  {
   "cell_type": "code",
   "execution_count": 63,
   "metadata": {},
   "outputs": [],
   "source": [
    "batch_size =32\n",
    "(inputs,targets) =loader.get_batch(batch_size)"
   ]
  },
  {
   "cell_type": "code",
   "execution_count": 64,
   "metadata": {},
   "outputs": [
    {
     "data": {
      "text/plain": [
       "23"
      ]
     },
     "execution_count": 64,
     "metadata": {},
     "output_type": "execute_result"
    }
   ],
   "source": [
    "siamese_convnet_all.predict(inputs).argmax()"
   ]
  },
  {
   "cell_type": "code",
   "execution_count": 1,
   "metadata": {},
   "outputs": [
    {
     "name": "stderr",
     "output_type": "stream",
     "text": [
      "D:\\anaconda\\envs\\nlu_project_2_env\\lib\\site-packages\\h5py\\__init__.py:36: FutureWarning: Conversion of the second argument of issubdtype from `float` to `np.floating` is deprecated. In future, it will be treated as `np.float64 == np.dtype(float).type`.\n",
      "  from ._conv import register_converters as _register_converters\n",
      "Using TensorFlow backend.\n",
      "D:\\anaconda\\envs\\nlu_project_2_env\\lib\\site-packages\\tensorflow\\python\\framework\\dtypes.py:526: FutureWarning: Passing (type, 1) or '1type' as a synonym of type is deprecated; in a future version of numpy, it will be understood as (type, (1,)) / '(1,)type'.\n",
      "  _np_qint8 = np.dtype([(\"qint8\", np.int8, 1)])\n",
      "D:\\anaconda\\envs\\nlu_project_2_env\\lib\\site-packages\\tensorflow\\python\\framework\\dtypes.py:527: FutureWarning: Passing (type, 1) or '1type' as a synonym of type is deprecated; in a future version of numpy, it will be understood as (type, (1,)) / '(1,)type'.\n",
      "  _np_quint8 = np.dtype([(\"quint8\", np.uint8, 1)])\n",
      "D:\\anaconda\\envs\\nlu_project_2_env\\lib\\site-packages\\tensorflow\\python\\framework\\dtypes.py:528: FutureWarning: Passing (type, 1) or '1type' as a synonym of type is deprecated; in a future version of numpy, it will be understood as (type, (1,)) / '(1,)type'.\n",
      "  _np_qint16 = np.dtype([(\"qint16\", np.int16, 1)])\n",
      "D:\\anaconda\\envs\\nlu_project_2_env\\lib\\site-packages\\tensorflow\\python\\framework\\dtypes.py:529: FutureWarning: Passing (type, 1) or '1type' as a synonym of type is deprecated; in a future version of numpy, it will be understood as (type, (1,)) / '(1,)type'.\n",
      "  _np_quint16 = np.dtype([(\"quint16\", np.uint16, 1)])\n",
      "D:\\anaconda\\envs\\nlu_project_2_env\\lib\\site-packages\\tensorflow\\python\\framework\\dtypes.py:530: FutureWarning: Passing (type, 1) or '1type' as a synonym of type is deprecated; in a future version of numpy, it will be understood as (type, (1,)) / '(1,)type'.\n",
      "  _np_qint32 = np.dtype([(\"qint32\", np.int32, 1)])\n",
      "D:\\anaconda\\envs\\nlu_project_2_env\\lib\\site-packages\\tensorflow\\python\\framework\\dtypes.py:535: FutureWarning: Passing (type, 1) or '1type' as a synonym of type is deprecated; in a future version of numpy, it will be understood as (type, (1,)) / '(1,)type'.\n",
      "  np_resource = np.dtype([(\"resource\", np.ubyte, 1)])\n"
     ]
    }
   ],
   "source": [
    "from keras.models import load_model"
   ]
  },
  {
   "cell_type": "code",
   "execution_count": 3,
   "metadata": {},
   "outputs": [
    {
     "name": "stdout",
     "output_type": "stream",
     "text": [
      "WARNING:tensorflow:From D:\\anaconda\\envs\\nlu_project_2_env\\lib\\site-packages\\tensorflow\\python\\ops\\resource_variable_ops.py:435: colocate_with (from tensorflow.python.framework.ops) is deprecated and will be removed in a future version.\n",
      "Instructions for updating:\n",
      "Colocations handled automatically by placer.\n",
      "WARNING:tensorflow:From D:\\anaconda\\envs\\nlu_project_2_env\\lib\\site-packages\\tensorflow\\python\\ops\\math_ops.py:3066: to_int32 (from tensorflow.python.ops.math_ops) is deprecated and will be removed in a future version.\n",
      "Instructions for updating:\n",
      "Use tf.cast instead.\n"
     ]
    }
   ],
   "source": [
    "loaded_model =load_model('keras-siamese-network_accuracy{}%'.format(int(val_acc))) #后缀一般是.h5，我这里没有后缀"
   ]
  },
  {
   "cell_type": "code",
   "execution_count": 17,
   "metadata": {},
   "outputs": [],
   "source": [
    "from PIL import Image"
   ]
  },
  {
   "cell_type": "code",
   "execution_count": 32,
   "metadata": {},
   "outputs": [
    {
     "name": "stdout",
     "output_type": "stream",
     "text": [
      "显示support_set的图片：\n"
     ]
    },
    {
     "data": {
      "image/png": "[encoded data removed]",
      "text/plain": [
       "<Figure size 432x288 with 1 Axes>"
      ]
     },
     "metadata": {
      "needs_background": "light"
     },
     "output_type": "display_data"
    },
    {
     "data": {
      "image/png": "[encoded data removed]",
      "text/plain": [
       "<Figure size 432x288 with 1 Axes>"
      ]
     },
     "metadata": {
      "needs_background": "light"
     },
     "output_type": "display_data"
    },
    {
     "data": {
      "image/png": "[encoded data removed]",
      "text/plain": [
       "<Figure size 432x288 with 1 Axes>"
      ]
     },
     "metadata": {
      "needs_background": "light"
     },
     "output_type": "display_data"
    },
    {
     "data": {
      "image/png": "[encoded data removed]",
      "text/plain": [
       "<Figure size 432x288 with 1 Axes>"
      ]
     },
     "metadata": {
      "needs_background": "light"
     },
     "output_type": "display_data"
    },
    {
     "data": {
      "image/png": "[encoded data removed]",
      "text/plain": [
       "<Figure size 432x288 with 1 Axes>"
      ]
     },
     "metadata": {
      "needs_background": "light"
     },
     "output_type": "display_data"
    },
    {
     "name": "stdout",
     "output_type": "stream",
     "text": [
      "显示query图片:\n"
     ]
    },
    {
     "data": {
      "image/png": "[encoded data removed]",
      "text/plain": [
       "<Figure size 432x288 with 1 Axes>"
      ]
     },
     "metadata": {
      "needs_background": "light"
     },
     "output_type": "display_data"
    },
    {
     "name": "stdout",
     "output_type": "stream",
     "text": [
      "在support-set中预测最相似图片下标为2,显示support-set中的对应图片:\n"
     ]
    },
    {
     "data": {
      "image/png": "[encoded data removed]",
      "text/plain": [
       "<Figure size 432x288 with 1 Axes>"
      ]
     },
     "metadata": {
      "needs_background": "light"
     },
     "output_type": "display_data"
    }
   ],
   "source": [
    "loader.make_one_shot_task_visiable(5,loaded_model)"
   ]
  },
  {
   "cell_type": "code",
   "execution_count": null,
   "metadata": {},
   "outputs": [],
   "source": []
  }
 ],
 "metadata": {
  "kernelspec": {
   "display_name": "Python 3",
   "language": "python",
   "name": "python3"
  },
  "language_info": {
   "codemirror_mode": {
    "name": "ipython",
    "version": 3
   },
   "file_extension": ".py",
   "mimetype": "text/x-python",
   "name": "python",
   "nbconvert_exporter": "python",
   "pygments_lexer": "ipython3",
   "version": "3.6.10"
  }
 },
 "nbformat": 4,
 "nbformat_minor": 4
}
